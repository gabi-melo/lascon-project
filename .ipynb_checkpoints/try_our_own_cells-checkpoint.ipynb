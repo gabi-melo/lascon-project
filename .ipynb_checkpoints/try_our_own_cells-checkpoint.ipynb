{
 "cells": [
  {
   "cell_type": "code",
   "execution_count": 1,
   "metadata": {},
   "outputs": [
    {
     "name": "stdout",
     "output_type": "stream",
     "text": [
      "Populating the interactive namespace from numpy and matplotlib\n"
     ]
    }
   ],
   "source": [
    "%pylab inline"
   ]
  },
  {
   "cell_type": "markdown",
   "metadata": {},
   "source": [
    "# Example: Extracellular current stimulation #\n",
    "This is an example of **``LFPy``** running in an **``IPython notebook``**. To run through this example code and produce output, press **``<shift-Enter>``** in each code block below.\n",
    "\n",
    "First step is to **import ``LFPy``** and other packages for analysis and plotting:"
   ]
  },
  {
   "cell_type": "code",
   "execution_count": 2,
   "metadata": {},
   "outputs": [],
   "source": [
    "import numpy as np\n",
    "import sys\n",
    "if sys.version < '3':\n",
    "    from urllib2 import urlopen\n",
    "else:    \n",
    "    from urllib.request import urlopen\n",
    "import ssl\n",
    "from warnings import warn\n",
    "import zipfile\n",
    "import os\n",
    "import matplotlib.pyplot as plt\n",
    "from matplotlib.collections import LineCollection\n",
    "import LFPy\n",
    "import neuron"
   ]
  },
  {
   "cell_type": "markdown",
   "metadata": {},
   "source": [
    "## Fetch model files"
   ]
  },
  {
   "cell_type": "code",
   "execution_count": 3,
   "metadata": {},
   "outputs": [],
   "source": [
    "#Hay et al. 2011 pyramidal model\n",
    "\n",
    "if not os.path.isfile('L5bPCmodelsEH/morphologies/cell1.asc'):\n",
    "    #get the model files:\n",
    "    u = urlopen('http://senselab.med.yale.edu/ModelDB/eavBinDown.asp?o=139653&a=23&mime=application/zip',\n",
    "                context=ssl._create_unverified_context())\n",
    "    localFile = open('L5bPCmodelsEH.zip', 'wb')\n",
    "    localFile.write(u.read())\n",
    "    localFile.close()\n",
    "    #unzip:\n",
    "    myzip = zipfile.ZipFile('L5bPCmodelsEH.zip', 'r')\n",
    "    myzip.extractall('.')\n",
    "    myzip.close()\n",
    "\n",
    "#compile mod files every time, because of incompatibility with Mainen96 files:\n",
    "if \"win32\" in sys.platform:\n",
    "    pth = \"L5bPCmodelsEH/mod/\"\n",
    "    warn(\"no autompile of NMODL (.mod) files on Windows.\\n\" \n",
    "         + \"Run mknrndll from NEURON bash in the folder L5bPCmodelsEH/mod and rerun example script\")\n",
    "    if not pth in neuron.nrn_dll_loaded:\n",
    "        neuron.h.nrn_load_dll(pth+\"nrnmech.dll\")\n",
    "    neuron.nrn_dll_loaded.append(pth)\n",
    "else:\n",
    "    os.system('''\n",
    "              cd L5bPCmodelsEH/mod/\n",
    "              nrnivmodl\n",
    "              ''')\n",
    "    neuron.load_mechanisms('L5bPCmodelsEH/mod/')"
   ]
  },
  {
   "cell_type": "code",
   "execution_count": 10,
   "metadata": {},
   "outputs": [],
   "source": [
    "# define cell parameters used as input to cell-class\n",
    "cellParameters = {\n",
    "    'morphology'    : 'L5bPCmodelsEH/morphologies/cell1.asc',\n",
    "    'templatefile'  : ['L5bPCmodelsEH/models/L5PCbiophys3.hoc',\n",
    "                       'L5bPCmodelsEH/models/L5PCtemplate.hoc'],\n",
    "    'templatename'  : 'L5PCtemplate',\n",
    "    'templateargs'  : 'L5bPCmodelsEH/morphologies/cell1.asc',\n",
    "    'passive' : False,\n",
    "    'nsegs_method' : None,\n",
    "    'dt' : 2**-6,\n",
    "    'tstart' : -159,\n",
    "    'tstop' : 10,\n",
    "    'v_init' : -60,\n",
    "    'celsius': 34,\n",
    "    'pt3d' : True,\n",
    "    'extracellular': True,\n",
    "}"
   ]
  },
  {
   "cell_type": "markdown",
   "metadata": {},
   "source": [
    "## Simulation of generator cell"
   ]
  },
  {
   "cell_type": "code",
   "execution_count": 11,
   "metadata": {},
   "outputs": [
    {
     "name": "stdout",
     "output_type": "stream",
     "text": [
      "Overwriting custom temperature of 34.00. New temperature is 34.00\n"
     ]
    }
   ],
   "source": [
    "# delete old sections from NEURON namespace\n",
    "LFPy.cell.neuron.h(\"forall delete_section()\")\n",
    "\n",
    "# initialize cell instance, using the LFPy.Cell class\n",
    "generator_cell = LFPy.TemplateCell(**cellParameters) \n",
    "generator_cell.set_rotation(x=4.729, y=-3.166)\n",
    "# override passive reversal potential, so AP is generated\n",
    "for sec in generator_cell.allseclist:\n",
    "    for seg in sec:\n",
    "        seg.e_pas = -59.5\n",
    "\n",
    "\n",
    "# let's put electrodes at each segment of the cell\n",
    "# define parameters for extracellular recording electrode, using optional method\n",
    "electrodeParameters = {\n",
    "    'sigma' : 0.3,                  # extracellular conductivity\n",
    "    # x,y,z-coordinates of contacts (from the grid in xz-plane over which we calculate local field potentials)\n",
    "    'x' : generator_cell.xmid+100,  # + distance of the electrodes to the receptor cell\n",
    "    'y' : generator_cell.ymid,\n",
    "    'z' : generator_cell.zmid,\n",
    "    'method' : 'soma_as_point',  #sphere source soma segment\n",
    "    'N' : np.array([[0, 1, 0]]*generator_cell.xmid.size), #surface normals\n",
    "    'r' : 2.5,              # contact site radius\n",
    "    'n' : 20,               # datapoints for averaging\n",
    "}\n",
    "\n",
    "# create extracellular electrode object for LFPs on grid\n",
    "electrode = LFPy.RecExtElectrode(**electrodeParameters)\n",
    "\n",
    "# perform NEURON simulation of the generator cell\n",
    "# results saved as attributes in the cell instance\n",
    "generator_cell.simulate(electrode = electrode)"
   ]
  },
  {
   "cell_type": "markdown",
   "metadata": {},
   "source": [
    "## Simulation of receptor cell"
   ]
  },
  {
   "cell_type": "code",
   "execution_count": 12,
   "metadata": {},
   "outputs": [
    {
     "name": "stdout",
     "output_type": "stream",
     "text": [
      "Overwriting custom temperature of 34.00. New temperature is 34.00\n"
     ]
    }
   ],
   "source": [
    "# delete old sections from NEURON namespace\n",
    "LFPy.cell.neuron.h(\"forall delete_section()\")\n",
    "\n",
    "# initialize cell instance, using the LFPy.Cell class\n",
    "receptor_cell = LFPy.TemplateCell(**cellParameters)\n",
    "receptor_cell.set_rotation(x=4.729, y=-3.166)\n",
    "receptor_cell.xmid += 100   # adjust distance \n",
    "\n",
    "# time of extracellular field simulation\n",
    "t = np.arange(electrode.LFP.shape[1]) * receptor_cell.dt\n",
    "\n",
    "# insert external field generated by the generator cell recorded in electrodes\n",
    "receptor_cell.insert_v_ext(electrode.LFP, t)\n",
    "\n",
    "# perform NEURON simulation of the receptor cell\n",
    "receptor_cell.simulate(rec_vmem=True)"
   ]
  },
  {
   "cell_type": "code",
   "execution_count": 32,
   "metadata": {},
   "outputs": [],
   "source": [
    "# find index positions of electrodes in the cells\n",
    "positions = np.array(list(zip(generator_cell.xmid, generator_cell.zmid)))\n",
    "\n",
    "target = np.array([200,200])     # estimated location in the plot\n",
    "target_index = ((positions - target)**2).sum(axis=1).argmin()      # find closest electrode\n",
    "\n",
    "target_pos = positions[target_index]    # find target electrode index"
   ]
  },
  {
   "cell_type": "code",
   "execution_count": 33,
   "metadata": {},
   "outputs": [
    {
     "data": {
      "text/plain": [
       "<matplotlib.collections.PathCollection at 0x121800470>"
      ]
     },
     "execution_count": 33,
     "metadata": {},
     "output_type": "execute_result"
    },
    {
     "data": {
      "image/png": "[encoded data removed]",
      "text/plain": [
       "<Figure size 400x600 with 1 Axes>"
      ]
     },
     "metadata": {
      "needs_background": "light"
     },
     "output_type": "display_data"
    }
   ],
   "source": [
    "# plot neurons\n",
    "plt.figure(dpi=100,\n",
    "          figsize=(4,6))\n",
    "\n",
    "plt.scatter(generator_cell.xmid, generator_cell.zmid,s=2)\n",
    "plt.scatter(receptor_cell.xmid, receptor_cell.zmid,s=2)\n",
    "\n",
    "# plot target electrode\n",
    "plt.scatter(target_pos[0],target_pos[1],s=10,color='k')"
   ]
  },
  {
   "cell_type": "code",
   "execution_count": null,
   "metadata": {},
   "outputs": [],
   "source": [
    "# plot membrane potential of receptor cell at a given location\n",
    "plt.plot(t,receptor_cell.vmem[140])\n",
    "plt.xlabel(\"Time\")"
   ]
  }
 ],
 "metadata": {
  "kernelspec": {
   "display_name": "Python 3",
   "language": "python",
   "name": "python3"
  },
  "language_info": {
   "codemirror_mode": {
    "name": "ipython",
    "version": 3
   },
   "file_extension": ".py",
   "mimetype": "text/x-python",
   "name": "python",
   "nbconvert_exporter": "python",
   "pygments_lexer": "ipython3",
   "version": "3.6.7"
  }
 },
 "nbformat": 4,
 "nbformat_minor": 1
}
