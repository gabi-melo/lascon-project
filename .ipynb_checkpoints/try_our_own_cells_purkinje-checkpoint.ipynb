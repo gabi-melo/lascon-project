{
 "cells": [
  {
   "cell_type": "code",
   "execution_count": 1,
   "metadata": {},
   "outputs": [
    {
     "name": "stdout",
     "output_type": "stream",
     "text": [
      "Populating the interactive namespace from numpy and matplotlib\n"
     ]
    }
   ],
   "source": [
    "%pylab inline"
   ]
  },
  {
   "cell_type": "markdown",
   "metadata": {},
   "source": [
    "# Example: Extracellular current stimulation #\n",
    "This is an example of **``LFPy``** running in an **``IPython notebook``**. To run through this example code and produce output, press **``<shift-Enter>``** in each code block below.\n",
    "\n",
    "First step is to **import ``LFPy``** and other packages for analysis and plotting:"
   ]
  },
  {
   "cell_type": "code",
   "execution_count": 2,
   "metadata": {},
   "outputs": [],
   "source": [
    "import numpy as np\n",
    "import sys\n",
    "if sys.version < '3':\n",
    "    from urllib2 import urlopen\n",
    "else:    \n",
    "    from urllib.request import urlopen\n",
    "import ssl\n",
    "from warnings import warn\n",
    "import zipfile\n",
    "import os\n",
    "import matplotlib.pyplot as plt\n",
    "from matplotlib.collections import LineCollection\n",
    "import LFPy\n",
    "import neuron\n",
    "from neuron import h"
   ]
  },
  {
   "cell_type": "markdown",
   "metadata": {},
   "source": [
    "## Fetch model files"
   ]
  },
  {
   "cell_type": "code",
   "execution_count": 3,
   "metadata": {},
   "outputs": [],
   "source": [
    "# neuron.load_mechanisms('L5bPCmodelsEH/mod/')\n",
    "\n",
    "# define cell parameters used as input to cell-class\n",
    "cellParameters = {\n",
    "    'morphology'    : 'L5.hoc',\n",
    "#     'templatefile'  : ['Purkinje.nrn',\n",
    "#                        'Purkinje.nrn'],\n",
    "#     'templatename'  : 'Purkinje',\n",
    "#     'templateargs'  : 'Purkinje.nrn',\n",
    "    'passive' : False,\n",
    "    'nsegs_method' : None,\n",
    "    'dt' : 2**-6,\n",
    "    'tstart' : -159,\n",
    "    'tstop' : 10,\n",
    "    'v_init' : -60,\n",
    "    'celsius': 34,\n",
    "    'pt3d' : True,\n",
    "    'extracellular': True,\n",
    "}"
   ]
  },
  {
   "cell_type": "markdown",
   "metadata": {},
   "source": [
    "## Simulation of generator cell"
   ]
  },
  {
   "cell_type": "code",
   "execution_count": 4,
   "metadata": {},
   "outputs": [],
   "source": [
    "# delete old sections from NEURON namespace\n",
    "# LFPy.cell.neuron.h(\"forall delete_section()\")\n",
    "\n",
    "# initialize cell instance, using the LFPy.Cell class\n",
    "generator_cell = LFPy.Cell(**cellParameters) \n",
    "generator_cell.set_rotation(x=4.729, y=-3.166)\n",
    "\n",
    "# override passive reversal potential, so AP is generated\n",
    "# for sec in generator_cell.allseclist:\n",
    "#     for seg in sec:\n",
    "#         seg.e_pas = -59.5\n",
    "\n",
    "\n",
    "# place electrodes at each segment of the cell\n",
    "# define parameters for extracellular recording electrode, using optional method\n",
    "electrodeParameters = {\n",
    "    'sigma' : 0.3,                  # extracellular conductivity\n",
    "    # x,y,z-coordinates of contacts (from the grid in xz-plane over which we calculate local field potentials)\n",
    "    'x' : generator_cell.xmid+100,  # + distance of the electrodes to the receptor cell\n",
    "    'y' : generator_cell.ymid,\n",
    "    'z' : generator_cell.zmid,\n",
    "    'method' : 'soma_as_point',  #sphere source soma segment\n",
    "    'N' : np.array([[0, 1, 0]]*generator_cell.xmid.size), #surface normals\n",
    "    'r' : 2.5,              # contact site radius\n",
    "    'n' : 20,               # datapoints for averaging\n",
    "}\n",
    "\n",
    "# create extracellular electrode object for LFPs on grid\n",
    "electrode = LFPy.RecExtElectrode(**electrodeParameters)\n",
    "\n",
    "# perform NEURON simulation of the generator cell\n",
    "# results saved as attributes in the cell instance\n",
    "generator_cell.simulate(electrode = electrode)"
   ]
  },
  {
   "cell_type": "markdown",
   "metadata": {},
   "source": [
    "## Simulation of receptor cell"
   ]
  },
  {
   "cell_type": "code",
   "execution_count": 10,
   "metadata": {},
   "outputs": [
    {
     "name": "stdout",
     "output_type": "stream",
     "text": [
      "Overwriting custom temperature of 34.00. New temperature is 34.00\n"
     ]
    }
   ],
   "source": [
    "# delete old sections from NEURON namespace\n",
    "# LFPy.cell.neuron.h(\"forall delete_section()\")\n",
    "\n",
    "# initialize cell instance, using the LFPy.Cell class\n",
    "receptor_cell = LFPy.Cell(**cellParameters)\n",
    "receptor_cell.set_rotation(x=4.729, y=-3.166)\n",
    "receptor_cell.xmid += 100   # adjust distance \n",
    "\n",
    "# time of extracellular field simulation\n",
    "t = np.arange(electrode.LFP.shape[1]) * receptor_cell.dt\n",
    "\n",
    "# insert external field generated by the generator cell recorded in electrodes\n",
    "receptor_cell.insert_v_ext(electrode.LFP, t)\n",
    "\n",
    "# perform NEURON simulation of the receptor cell\n",
    "receptor_cell.simulate(rec_vmem=True)"
   ]
  },
  {
   "cell_type": "code",
   "execution_count": 11,
   "metadata": {},
   "outputs": [],
   "source": [
    "# find index positions of electrodes in the cells\n",
    "positions = np.array(list(zip(generator_cell.xmid, generator_cell.zmid)))\n",
    "\n",
    "target = np.array([200,200])     # estimated location in the plot\n",
    "target_index = ((positions - target)**2).sum(axis=1).argmin()      # find closest electrode\n",
    "\n",
    "target_pos = positions[target_index]    # find target electrode index"
   ]
  },
  {
   "cell_type": "markdown",
   "metadata": {},
   "source": [
    "## Plotting"
   ]
  },
  {
   "cell_type": "code",
   "execution_count": 12,
   "metadata": {},
   "outputs": [
    {
     "data": {
      "text/plain": [
       "<matplotlib.collections.PathCollection at 0x1195d12e8>"
      ]
     },
     "execution_count": 12,
     "metadata": {},
     "output_type": "execute_result"
    },
    {
     "data": {
      "image/png": "[encoded data removed]",
      "text/plain": [
       "<Figure size 400x600 with 1 Axes>"
      ]
     },
     "metadata": {
      "needs_background": "light"
     },
     "output_type": "display_data"
    }
   ],
   "source": [
    "# plot neurons\n",
    "plt.figure(dpi=100,\n",
    "          figsize=(4,6))\n",
    "\n",
    "plt.scatter(generator_cell.xmid, generator_cell.zmid,s=2)\n",
    "plt.scatter(receptor_cell.xmid, receptor_cell.zmid,s=2)\n",
    "\n",
    "# plot target electrode\n",
    "plt.scatter(target_pos[0],target_pos[1],s=10,color='k')"
   ]
  },
  {
   "cell_type": "code",
   "execution_count": null,
   "metadata": {},
   "outputs": [],
   "source": [
    "# plot membrane potential of receptor cell at a given location \n",
    "plt.plot(t,receptor_cell.vmem[40])\n",
    "plt.xlabel(\"Time\")"
   ]
  },
  {
   "cell_type": "code",
   "execution_count": null,
   "metadata": {},
   "outputs": [],
   "source": [
    "# plot generator cell\n",
    "\n",
    "def plotstuff(generator_cell, electrode):\n",
    "    fig = plt.figure(dpi=160)\n",
    "    \n",
    "    ax1 = fig.add_axes([0.05, 0.1, 0.55, 0.9], frameon=False)\n",
    "    cax = fig.add_axes([0.05, 0.115, 0.55, 0.015])\n",
    "    \n",
    "    ax1.plot(electrode.x, electrode.z, '.', marker='o', markersize=1, color='k',\n",
    "             zorder=0)\n",
    "    \n",
    "    #normalize to min peak\n",
    "    LFPmin = electrode.LFP.min(axis=1)\n",
    "    LFPnorm = -(electrode.LFP.T / LFPmin).T\n",
    "    \n",
    "    i = 0\n",
    "    zips = []\n",
    "    for x in LFPnorm:\n",
    "        zips.append(list(zip(generator_cell.tvec*1.6 + electrode.x[i] + 2,\n",
    "                        x*12 + electrode.z[i])))\n",
    "        i += 1\n",
    "    \n",
    "    line_segments = LineCollection(zips,\n",
    "                                    linewidths = (1),\n",
    "                                    linestyles = 'solid',\n",
    "                                    cmap='nipy_spectral',\n",
    "                                    zorder=1,\n",
    "                                    rasterized=False)\n",
    "    line_segments.set_array(np.log10(-LFPmin))\n",
    "    ax1.add_collection(line_segments)\n",
    "    \n",
    "    axcb = fig.colorbar(line_segments, cax=cax, orientation='horizontal')\n",
    "    axcb.outline.set_visible(False)\n",
    "    xticklabels = np.array([-0.1  , -0.05 , -0.02 , -0.01 , -0.005, -0.002])\n",
    "    xticks = np.log10(-xticklabels)\n",
    "    axcb.set_ticks(xticks)\n",
    "    axcb.set_ticklabels(np.round(-10**xticks, decimals=3))  \n",
    "    axcb.set_label('spike amplitude (mV)', va='center')\n",
    "    \n",
    "    ax1.plot([22, 38], [100, 100], color='k', lw = 1)\n",
    "    ax1.text(22, 102, '10 ms')\n",
    "    \n",
    "    ax1.plot([60, 80], [100, 100], color='k', lw = 1)\n",
    "    ax1.text(60, 102, '20 $\\mu$m')\n",
    "    \n",
    "    ax1.set_xticks([])\n",
    "    ax1.set_yticks([])\n",
    "    \n",
    "    axis = ax1.axis(ax1.axis('equal'))\n",
    "    ax1.set_xlim(axis[0]*1.02, axis[1]*1.02)\n",
    "    \n",
    "    # plot morphology\n",
    "    zips = []\n",
    "    for x, z in generator_cell.get_pt3d_polygons():\n",
    "        zips.append(list(zip(x, z)))\n",
    "    from matplotlib.collections import PolyCollection\n",
    "    polycol = PolyCollection(zips, edgecolors='none',\n",
    "                             facecolors='gray', zorder=-1, rasterized=False)\n",
    "    ax1.add_collection(polycol)\n",
    "\n",
    "    ax1.text(-0.05, 0.95, 'a',\n",
    "        horizontalalignment='center',\n",
    "        verticalalignment='center',\n",
    "        fontsize=16, fontweight='demibold',\n",
    "        transform=ax1.transAxes)\n",
    "    \n",
    "\n",
    "    # plot extracellular spike in detail\n",
    "    ind = np.where(electrode.LFP == electrode.LFP.min())[0][0]\n",
    "    timeind = (generator_cell.tvec >= 0) & (generator_cell.tvec <= 10)\n",
    "    xticks = np.arange(10)\n",
    "    xticklabels = xticks\n",
    "    LFPtrace = electrode.LFP[ind, ]\n",
    "    vline0 = generator_cell.tvec[generator_cell.somav==generator_cell.somav.max()]\n",
    "    vline1 = generator_cell.tvec[LFPtrace == LFPtrace.min()]\n",
    "    vline2 = generator_cell.tvec[LFPtrace == LFPtrace.max()]\n",
    "    \n",
    "    # plot asterix to link trace in (a) and (c)\n",
    "    ax1.plot(electrode.x[ind], electrode.z[ind], '*', markersize=5, \n",
    "             markeredgecolor='none', markerfacecolor='k')\n",
    "    \n",
    "    ax2 = fig.add_axes([0.75, 0.6, 0.2, 0.35], frameon=True)\n",
    "    ax2.plot(generator_cell.tvec[timeind], generator_cell.somav[timeind], lw=1, color='k', clip_on=False)\n",
    "    \n",
    "    ax2.vlines(vline0, generator_cell.somav.min(), generator_cell.somav.max(), 'k', 'dashed', lw=0.25)\n",
    "    ax2.vlines(vline1, generator_cell.somav.min(), generator_cell.somav.max(), 'k', 'dashdot', lw=0.25)\n",
    "    ax2.vlines(vline2, generator_cell.somav.min(), generator_cell.somav.max(), 'k', 'dotted', lw=0.25)\n",
    "    \n",
    "    ax2.set_xticks(xticks)\n",
    "    ax2.set_xticklabels(xticks)\n",
    "    ax2.axis(ax2.axis('tight'))\n",
    "    ax2.set_ylabel(r'$V_\\mathrm{soma}(t)$ (mV)')\n",
    "    \n",
    "    for loc, spine in ax2.spines.items():\n",
    "        if loc in ['right', 'top']:\n",
    "            spine.set_color('none')            \n",
    "    ax2.xaxis.set_ticks_position('bottom')\n",
    "    ax2.yaxis.set_ticks_position('left')\n",
    "    \n",
    "    ax2.set_title('somatic potential', va='center')\n",
    "\n",
    "    ax2.text(-0.3, 1.0, 'b',\n",
    "        horizontalalignment='center',\n",
    "        verticalalignment='center',\n",
    "        fontsize=16, fontweight='demibold',\n",
    "        transform=ax2.transAxes)\n",
    "\n",
    "    ax3 = fig.add_axes([0.75, 0.1, 0.2, 0.35], frameon=True)\n",
    "    ax3.plot(generator_cell.tvec[timeind], LFPtrace[timeind], lw=1, color='k', clip_on=False)\n",
    "    ax3.plot(0.5, 0, '*', markersize=5, markeredgecolor='none', markerfacecolor='k')\n",
    "\n",
    "    ax3.vlines(vline0, LFPtrace.min(), LFPtrace.max(), 'k', 'dashed', lw=0.25)\n",
    "    ax3.vlines(vline1, LFPtrace.min(), LFPtrace.max(), 'k', 'dashdot', lw=0.25)\n",
    "    ax3.vlines(vline2, LFPtrace.min(), LFPtrace.max(), 'k', 'dotted', lw=0.25)\n",
    "\n",
    "    ax3.set_xticks(xticks)\n",
    "    ax3.set_xticklabels(xticks)\n",
    "    ax3.axis(ax3.axis('tight'))\n",
    "    \n",
    "    for loc, spine in ax3.spines.items():\n",
    "        if loc in ['right', 'top']:\n",
    "            spine.set_color('none')            \n",
    "    ax3.xaxis.set_ticks_position('bottom')\n",
    "    ax3.yaxis.set_ticks_position('left')\n",
    "\n",
    "    ax3.set_xlabel(r'$t$ (ms)', va='center')\n",
    "    ax3.set_ylabel(r'$\\Phi(\\mathbf{r},t)$ (mV)')\n",
    "                   \n",
    "    ax3.set_title('extracellular spike', va='center')\n",
    "\n",
    "    ax3.text(-0.3, 1.0, 'c',\n",
    "        horizontalalignment='center',\n",
    "        verticalalignment='center',\n",
    "        fontsize=16, fontweight='demibold',\n",
    "        transform=ax3.transAxes)\n",
    "\n",
    "    return fig\n",
    "\n",
    "fig = plotstuff(generator_cell, electrode)"
   ]
  },
  {
   "cell_type": "code",
   "execution_count": null,
   "metadata": {},
   "outputs": [],
   "source": [
    "# plot receptor cell\n",
    "\n",
    "# def plotting_function(cell, ext_field):\n",
    "    \n",
    "    ext_field = electrode.LFP\n",
    "    \n",
    "#     x0, y0, z0 = dbs_params['position']\n",
    "#     amp = dbs_params['amp'] * 1000.\n",
    "    \n",
    "    ### PLOTTING THE RESULTS\n",
    "    cell_plot_idxs = [0,  receptor_cell.get_closest_idx(x=-150., y=0, z=750.)]    \n",
    "    cell_plot_colors = {cell_plot_idxs[idx]: plt.cm.Greens_r(1./(len(cell_plot_idxs) + 1) * idx + 0.1) \n",
    "                        for idx in range(len(cell_plot_idxs))}\n",
    "\n",
    "    # Plotting the morphology\n",
    "    plt.figure(figsize=(16,9))\n",
    "\n",
    "    v_field_ext = np.zeros((50, 200))\n",
    "    xf = np.linspace(np.min(receptor_cell.xend), np.max(receptor_cell.xend), 50)\n",
    "    zf = np.linspace(np.min(receptor_cell.zend), np.max(receptor_cell.zend), 200)\n",
    "    for xidx, x in enumerate(xf):\n",
    "        for zidx, z in enumerate(zf):\n",
    "            v_field_ext[xidx, zidx] = ext_field(x, 0, z) #* amp\n",
    "    plt.subplots_adjust(hspace=0.5)\n",
    "    plt.subplot(121, aspect='equal', xlabel='x [$\\mu m$]', ylabel='z [$\\mu m$]', \n",
    "                xlim=[-400, 400], xticks=[-400, 0, 400], title='Green dots: Measurement points')\n",
    "    plt.imshow(v_field_ext.T, extent=[np.min(receptor_cell.xend), np.max(receptor_cell.xend), np.min(receptor_cell.zend), np.max(receptor_cell.zend)], \n",
    "               origin='lower', interpolation='nearest', cmap=plt.cm.bwr_r, vmin=-150, vmax=150)\n",
    "\n",
    "    plt.colorbar(label='mV')\n",
    "    [plt.plot([receptor_cell.xstart[idx], receptor_cell.xend[idx]], [receptor_cell.zstart[idx], receptor_cell.zend[idx]], c='gray', zorder=1) \n",
    "     for idx in range(receptor_cell.totnsegs)]\n",
    "    [plt.plot(receptor_cell.xmid[idx], receptor_cell.zmid[idx], 'o', c=cell_plot_colors[idx], ms=12) \n",
    "     for idx in cell_plot_idxs]\n",
    "    \n",
    "    l, = plt.plot(x0, z0, 'y*', ms=12)\n",
    "    plt.legend([l], [\"point current source\"], frameon=False)\n",
    "\n",
    "    # Plotting the membrane potentials\n",
    "    plt.subplot(222, title='Membrane potential', xlabel='Time [ms]', ylabel='mV', ylim=[-80, 20])\n",
    "    [plt.plot(receptor_cell.tvec, receptor_cell.vmem[idx, :], c=cell_plot_colors[idx], lw=2) for idx in cell_plot_idxs]\n",
    "\n",
    "    \n",
    "# plotting_function(receptor_cell, ext_field)"
   ]
  },
  {
   "cell_type": "code",
   "execution_count": null,
   "metadata": {},
   "outputs": [],
   "source": []
  }
 ],
 "metadata": {
  "kernelspec": {
   "display_name": "Python 3",
   "language": "python",
   "name": "python3"
  },
  "language_info": {
   "codemirror_mode": {
    "name": "ipython",
    "version": 3
   },
   "file_extension": ".py",
   "mimetype": "text/x-python",
   "name": "python",
   "nbconvert_exporter": "python",
   "pygments_lexer": "ipython3",
   "version": "3.6.7"
  }
 },
 "nbformat": 4,
 "nbformat_minor": 1
}
