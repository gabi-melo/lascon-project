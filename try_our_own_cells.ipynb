{
 "cells": [
  {
   "cell_type": "code",
   "execution_count": 1,
   "metadata": {},
   "outputs": [
    {
     "name": "stdout",
     "output_type": "stream",
     "text": [
      "Populating the interactive namespace from numpy and matplotlib\n"
     ]
    }
   ],
   "source": [
    "%pylab inline"
   ]
  },
  {
   "cell_type": "markdown",
   "metadata": {},
   "source": [
    "\n",
    "\n",
    "# Ephaptic Coupling #"
   ]
  },
  {
   "cell_type": "code",
   "execution_count": 2,
   "metadata": {},
   "outputs": [],
   "source": [
    "import numpy as np\n",
    "import sys\n",
    "if sys.version < '3':\n",
    "    from urllib2 import urlopen\n",
    "else:    \n",
    "    from urllib.request import urlopen\n",
    "import ssl\n",
    "from warnings import warn\n",
    "import zipfile\n",
    "import os\n",
    "import matplotlib.pyplot as plt\n",
    "from matplotlib.collections import LineCollection\n",
    "import LFPy\n",
    "import neuron\n",
    "from neuron import h"
   ]
  },
  {
   "cell_type": "markdown",
   "metadata": {},
   "source": [
    "## Fetch model files\n",
    "### Cell type and cell parameters ###"
   ]
  },
  {
   "cell_type": "code",
   "execution_count": 3,
   "metadata": {},
   "outputs": [],
   "source": [
    "# define cell parameters used as input to cell-class\n",
    "cellParameters = {\n",
    "    'morphology'    : 'L5.hoc',\n",
    "    'passive' : False,\n",
    "    'nsegs_method' : None,\n",
    "    'dt' : 2**-6,\n",
    "    'tstart' : -159,\n",
    "    'tstop' : 10,\n",
    "    'v_init' : -60,\n",
    "    'celsius': 34,\n",
    "    'pt3d' : True,\n",
    "    'extracellular': True,\n",
    "}"
   ]
  },
  {
   "cell_type": "markdown",
   "metadata": {},
   "source": [
    "### Creating generator_cell"
   ]
  },
  {
   "cell_type": "code",
   "execution_count": 4,
   "metadata": {},
   "outputs": [],
   "source": [
    "# delete old sections from NEURON namespace\n",
    "LFPy.cell.neuron.h(\"forall delete_section()\")\n",
    "\n",
    "# initialize cell instance, using the LFPy.Cell class\n",
    "generator_cell = LFPy.Cell(**cellParameters)\n",
    "generator_cell.set_rotation(x=4.729, y=-3.166)"
   ]
  },
  {
   "cell_type": "markdown",
   "metadata": {},
   "source": [
    "### Puting Synapse ###"
   ]
  },
  {
   "cell_type": "code",
   "execution_count": 5,
   "metadata": {},
   "outputs": [],
   "source": [
    "synapse = LFPy.Synapse(generator_cell, \n",
    "                       idx = generator_cell.get_idx(\"soma[0]\"),\n",
    "                       syntype = 'Exp2Syn', \n",
    "                       weight = 0.005, \n",
    "                       e = 15, \n",
    "                       tau1 = 0.5,\n",
    "                       tau2 = 2,\n",
    "                       record_current = True)\n",
    "synapse.set_spike_times(np.array([2.,8]))"
   ]
  },
  {
   "cell_type": "markdown",
   "metadata": {},
   "source": [
    "### Measuring the external field in the positions of receptor_cell"
   ]
  },
  {
   "cell_type": "code",
   "execution_count": 6,
   "metadata": {},
   "outputs": [
    {
     "name": "stdout",
     "output_type": "stream",
     "text": [
      "Adjusting r-distance to soma segments\n",
      "Adjusting r-distance to soma segments\n",
      "Adjusting r-distance to soma segments\n",
      "Adjusting r-distance to soma segments\n",
      "Adjusting r-distance to soma segments\n",
      "Adjusting r-distance to soma segments\n",
      "Adjusting r-distance to soma segments\n",
      "Adjusting r-distance to soma segments\n",
      "Adjusting r-distance to soma segments\n",
      "Adjusting r-distance to soma segments\n",
      "Adjusting r-distance to soma segments\n",
      "Adjusting r-distance to soma segments\n",
      "Adjusting r-distance to soma segments\n",
      "Adjusting r-distance to soma segments\n",
      "Adjusting r-distance to soma segments\n",
      "Adjusting r-distance to soma segments\n",
      "Adjusting r-distance to soma segments\n",
      "Adjusting r-distance to soma segments\n",
      "Adjusting r-distance to soma segments\n",
      "Adjusting r-distance to soma segments\n",
      "Adjusting r-distance to soma segments\n",
      "Adjusting r-distance to soma segments\n",
      "Adjusting r-distance to soma segments\n",
      "Adjusting r-distance to soma segments\n",
      "Adjusting r-distance to soma segments\n",
      "Adjusting r-distance to soma segments\n",
      "Adjusting r-distance to soma segments\n",
      "Adjusting r-distance to soma segments\n",
      "Adjusting r-distance to soma segments\n",
      "Adjusting r-distance to soma segments\n",
      "Adjusting r-distance to soma segments\n",
      "Adjusting r-distance to soma segments\n",
      "Adjusting r-distance to soma segments\n",
      "Adjusting r-distance to soma segments\n",
      "Adjusting r-distance to soma segments\n",
      "Adjusting r-distance to soma segments\n",
      "Adjusting r-distance to soma segments\n",
      "Adjusting r-distance to soma segments\n",
      "Adjusting r-distance to soma segments\n",
      "Adjusting r-distance to soma segments\n",
      "Adjusting r-distance to soma segments\n",
      "Adjusting r-distance to soma segments\n",
      "Adjusting r-distance to soma segments\n",
      "Adjusting r-distance to soma segments\n",
      "Adjusting r-distance to soma segments\n",
      "Adjusting r-distance to soma segments\n",
      "Adjusting r-distance to soma segments\n",
      "Adjusting r-distance to soma segments\n",
      "Adjusting r-distance to soma segments\n",
      "Adjusting r-distance to soma segments\n",
      "Adjusting r-distance to soma segments\n",
      "Adjusting r-distance to soma segments\n",
      "Adjusting r-distance to soma segments\n",
      "Adjusting r-distance to soma segments\n",
      "Adjusting r-distance to soma segments\n",
      "Adjusting r-distance to soma segments\n",
      "Adjusting r-distance to soma segments\n",
      "Adjusting r-distance to soma segments\n",
      "Adjusting r-distance to soma segments\n",
      "Adjusting r-distance to soma segments\n",
      "Adjusting r-distance to soma segments\n",
      "Adjusting r-distance to soma segments\n",
      "Adjusting r-distance to soma segments\n",
      "Adjusting r-distance to soma segments\n",
      "Adjusting r-distance to soma segments\n",
      "Adjusting r-distance to soma segments\n",
      "Adjusting r-distance to soma segments\n",
      "Adjusting r-distance to soma segments\n",
      "Adjusting r-distance to soma segments\n",
      "Adjusting r-distance to soma segments\n",
      "Adjusting r-distance to soma segments\n",
      "Adjusting r-distance to soma segments\n",
      "Adjusting r-distance to soma segments\n",
      "Adjusting r-distance to soma segments\n",
      "Adjusting r-distance to soma segments\n",
      "Adjusting r-distance to soma segments\n",
      "Adjusting r-distance to soma segments\n",
      "Adjusting r-distance to soma segments\n",
      "Adjusting r-distance to soma segments\n",
      "Adjusting r-distance to soma segments\n",
      "Adjusting r-distance to soma segments\n",
      "Adjusting r-distance to soma segments\n",
      "Adjusting r-distance to soma segments\n",
      "Adjusting r-distance to soma segments\n",
      "Adjusting r-distance to soma segments\n",
      "Adjusting r-distance to soma segments\n",
      "Adjusting r-distance to soma segments\n",
      "Adjusting r-distance to soma segments\n",
      "Adjusting r-distance to soma segments\n",
      "Adjusting r-distance to soma segments\n",
      "Adjusting r-distance to soma segments\n",
      "Adjusting r-distance to soma segments\n",
      "Adjusting r-distance to soma segments\n",
      "Adjusting r-distance to soma segments\n",
      "Adjusting r-distance to soma segments\n",
      "Adjusting r-distance to soma segments\n",
      "Adjusting r-distance to soma segments\n",
      "Adjusting r-distance to soma segments\n",
      "Adjusting r-distance to soma segments\n",
      "Adjusting r-distance to soma segments\n",
      "Adjusting r-distance to soma segments\n",
      "Adjusting r-distance to soma segments\n",
      "Adjusting r-distance to soma segments\n",
      "Adjusting r-distance to soma segments\n",
      "Adjusting r-distance to soma segments\n",
      "Adjusting r-distance to soma segments\n",
      "Adjusting r-distance to soma segments\n",
      "Adjusting r-distance to soma segments\n",
      "Adjusting r-distance to soma segments\n",
      "Adjusting r-distance to soma segments\n",
      "Adjusting r-distance to soma segments\n",
      "Adjusting r-distance to soma segments\n",
      "Adjusting r-distance to soma segments\n",
      "Adjusting r-distance to soma segments\n",
      "Adjusting r-distance to soma segments\n",
      "Adjusting r-distance to soma segments\n",
      "Adjusting r-distance to soma segments\n",
      "Adjusting r-distance to soma segments\n",
      "Adjusting r-distance to soma segments\n",
      "Adjusting r-distance to soma segments\n",
      "Adjusting r-distance to soma segments\n",
      "Adjusting r-distance to soma segments\n",
      "Adjusting r-distance to soma segments\n",
      "Adjusting r-distance to soma segments\n",
      "Adjusting r-distance to soma segments\n",
      "Adjusting r-distance to soma segments\n",
      "Adjusting r-distance to soma segments\n",
      "Adjusting r-distance to soma segments\n",
      "Adjusting r-distance to soma segments\n",
      "Adjusting r-distance to soma segments\n",
      "Adjusting r-distance to soma segments\n",
      "Adjusting r-distance to soma segments\n",
      "Adjusting r-distance to soma segments\n",
      "Adjusting r-distance to soma segments\n",
      "Adjusting r-distance to soma segments\n",
      "Adjusting r-distance to soma segments\n",
      "Adjusting r-distance to soma segments\n",
      "Adjusting r-distance to soma segments\n",
      "Adjusting r-distance to soma segments\n",
      "Adjusting r-distance to soma segments\n",
      "Adjusting r-distance to soma segments\n",
      "Adjusting r-distance to soma segments\n",
      "Adjusting r-distance to soma segments\n",
      "Adjusting r-distance to soma segments\n",
      "Adjusting r-distance to soma segments\n",
      "Adjusting r-distance to soma segments\n",
      "Adjusting r-distance to soma segments\n",
      "Adjusting r-distance to soma segments\n",
      "Adjusting r-distance to soma segments\n",
      "Adjusting r-distance to soma segments\n",
      "Adjusting r-distance to soma segments\n",
      "Adjusting r-distance to soma segments\n",
      "Adjusting r-distance to soma segments\n",
      "Adjusting r-distance to soma segments\n",
      "Adjusting r-distance to soma segments\n",
      "Adjusting r-distance to soma segments\n",
      "Adjusting r-distance to soma segments\n",
      "Adjusting r-distance to soma segments\n",
      "Adjusting r-distance to soma segments\n",
      "Adjusting r-distance to soma segments\n",
      "Adjusting r-distance to soma segments\n",
      "Adjusting r-distance to soma segments\n",
      "Adjusting r-distance to soma segments\n",
      "Adjusting r-distance to soma segments\n",
      "Adjusting r-distance to soma segments\n",
      "Adjusting r-distance to soma segments\n",
      "Adjusting r-distance to soma segments\n",
      "Adjusting r-distance to soma segments\n",
      "Adjusting r-distance to soma segments\n",
      "Adjusting r-distance to soma segments\n",
      "Adjusting r-distance to soma segments\n",
      "Adjusting r-distance to soma segments\n",
      "Adjusting r-distance to soma segments\n",
      "Adjusting r-distance to soma segments\n",
      "Adjusting r-distance to soma segments\n",
      "Adjusting r-distance to soma segments\n",
      "Adjusting r-distance to soma segments\n",
      "Adjusting r-distance to soma segments\n",
      "Adjusting r-distance to soma segments\n",
      "Adjusting r-distance to soma segments\n",
      "Adjusting r-distance to soma segments\n",
      "Adjusting r-distance to soma segments\n",
      "Adjusting r-distance to soma segments\n",
      "Adjusting r-distance to soma segments\n",
      "Adjusting r-distance to soma segments\n",
      "Adjusting r-distance to soma segments\n",
      "Adjusting r-distance to soma segments\n",
      "Adjusting r-distance to soma segments\n",
      "Adjusting r-distance to soma segments\n",
      "Adjusting r-distance to soma segments\n",
      "Adjusting r-distance to soma segments\n",
      "Adjusting r-distance to soma segments\n",
      "Adjusting r-distance to soma segments\n",
      "Adjusting r-distance to soma segments\n",
      "Adjusting r-distance to soma segments\n",
      "Adjusting r-distance to soma segments\n",
      "Adjusting r-distance to soma segments\n",
      "Adjusting r-distance to soma segments\n",
      "Adjusting r-distance to soma segments\n",
      "Adjusting r-distance to soma segments\n",
      "Adjusting r-distance to soma segments\n",
      "Adjusting r-distance to soma segments\n",
      "Adjusting r-distance to soma segments\n",
      "Adjusting r-distance to soma segments\n",
      "Adjusting r-distance to soma segments\n",
      "Adjusting r-distance to soma segments\n",
      "Adjusting r-distance to soma segments\n",
      "Adjusting r-distance to soma segments\n",
      "Adjusting r-distance to soma segments\n",
      "Adjusting r-distance to soma segments\n",
      "Adjusting r-distance to soma segments\n",
      "Adjusting r-distance to soma segments\n",
      "Adjusting r-distance to soma segments\n",
      "Adjusting r-distance to soma segments\n",
      "Adjusting r-distance to soma segments\n",
      "Adjusting r-distance to soma segments\n",
      "Adjusting r-distance to soma segments\n",
      "Adjusting r-distance to soma segments\n",
      "Adjusting r-distance to soma segments\n"
     ]
    },
    {
     "name": "stdout",
     "output_type": "stream",
     "text": [
      "Adjusting r-distance to soma segments\n",
      "Adjusting r-distance to soma segments\n",
      "Adjusting r-distance to soma segments\n",
      "Adjusting r-distance to soma segments\n",
      "Adjusting r-distance to soma segments\n",
      "Adjusting r-distance to soma segments\n",
      "Adjusting r-distance to soma segments\n",
      "Adjusting r-distance to soma segments\n",
      "Adjusting r-distance to soma segments\n",
      "Adjusting r-distance to soma segments\n",
      "Adjusting r-distance to soma segments\n",
      "Adjusting r-distance to soma segments\n",
      "Adjusting r-distance to soma segments\n",
      "Adjusting r-distance to soma segments\n",
      "Adjusting r-distance to soma segments\n",
      "Adjusting r-distance to soma segments\n",
      "Adjusting r-distance to soma segments\n",
      "Adjusting r-distance to soma segments\n",
      "Adjusting r-distance to soma segments\n",
      "Adjusting r-distance to soma segments\n",
      "Adjusting r-distance to soma segments\n",
      "Adjusting r-distance to soma segments\n",
      "Adjusting r-distance to soma segments\n",
      "Adjusting r-distance to soma segments\n",
      "Adjusting r-distance to soma segments\n"
     ]
    }
   ],
   "source": [
    "# place electrodes at each segment of the cell\n",
    "# define parameters for extracellular recording electrode, using optional method\n",
    "# x,y,z are coordinates of contacts (from the grid in xz-plane over which we calculate local field potentials)\n",
    "electrodeParameters = {\n",
    "    'sigma' : 0.3,                  # extracellular conductivity\n",
    "    'x' : generator_cell.xmid,      # + distance of the electrodes to the receptor cell\n",
    "    'y' : generator_cell.ymid,\n",
    "    'z' : generator_cell.zmid,\n",
    "    'method' : 'soma_as_point',  #sphere source soma segment\n",
    "    'N' : np.array([[0, 1, 0]]*generator_cell.xmid.size), #surface normals\n",
    "    'r' : 2.5,              # contact site radius\n",
    "    'n' : 20,               # datapoints for averaging\n",
    "}\n",
    "\n",
    "# create extracellular electrode object for LFPs on grid\n",
    "electrode = LFPy.RecExtElectrode(**electrodeParameters)\n",
    "\n",
    "# perform NEURON simulation of the generator cell\n",
    "# results saved as attributes in the cell instance\n",
    "generator_cell.simulate(electrode = electrode,rec_imem=True)"
   ]
  },
  {
   "cell_type": "markdown",
   "metadata": {},
   "source": [
    "### Ploting initial conditions"
   ]
  },
  {
   "cell_type": "code",
   "execution_count": 7,
   "metadata": {},
   "outputs": [
    {
     "data": {
      "text/plain": [
       "([<matplotlib.lines.Line2D at 0x11d6d5390>],\n",
       " Text(0.5,1,'somatic voltage (mV)'))"
      ]
     },
     "execution_count": 7,
     "metadata": {},
     "output_type": "execute_result"
    },
    {
     "data": {
      "image/png": "[encoded data removed]",
      "text/plain": [
       "<Figure size 864x648 with 4 Axes>"
      ]
     },
     "metadata": {
      "needs_background": "light"
     },
     "output_type": "display_data"
    }
   ],
   "source": [
    "plt.figure(figsize=(12, 9))\n",
    "plt.subplot(133)\n",
    "pcolormesh(generator_cell.tvec, electrode.z, electrode.LFP,\n",
    "           vmin=-abs(electrode.LFP).max(), vmax=abs(electrode.LFP).max())\n",
    "colorbar()\n",
    "title('LFP (mV)')\n",
    "\n",
    "plt.subplot(232)\n",
    "plt.plot(generator_cell.tvec, synapse.i, 'r'), plt.title('synaptic current (pA)')\n",
    "\n",
    "plt.subplot(235)\n",
    "plt.plot(generator_cell.tvec, generator_cell.somav, 'k'), plt.title('somatic voltage (mV)')\n",
    "\n",
    "\n",
    "\n",
    "\n",
    "#savefig('LFPy-example-1.pdf', dpi=200)"
   ]
  },
  {
   "cell_type": "markdown",
   "metadata": {},
   "source": [
    "### Creating Receptor_cell"
   ]
  },
  {
   "cell_type": "code",
   "execution_count": 9,
   "metadata": {},
   "outputs": [
    {
     "name": "stdout",
     "output_type": "stream",
     "text": [
      "Overwriting custom temperature of 34.00. New temperature is 34.00\n"
     ]
    }
   ],
   "source": [
    "# delete old sections from NEURON namespace\n",
    "LFPy.cell.neuron.h(\"forall delete_section()\")\n",
    "\n",
    "# initialize cell instance, using the LFPy.Cell class\n",
    "receptor_cell = LFPy.Cell(**cellParameters)\n",
    "receptor_cell.set_rotation(x=4.729, y=-3.166)\n",
    "receptor_cell.xmid += 100\n",
    "\n",
    "# time of extracellular field simulation\n",
    "t = np.arange(electrode.LFP.shape[1]) * receptor_cell.dt\n",
    "\n",
    "# insert external field generated by the generator cell recorded in electrodes\n",
    "receptor_cell.insert_v_ext(electrode.LFP, t)\n",
    "\n",
    "# perform NEURON simulation of the receptor cell\n",
    "receptor_cell.simulate(rec_vmem=True)"
   ]
  },
  {
   "cell_type": "code",
   "execution_count": null,
   "metadata": {},
   "outputs": [],
   "source": []
  },
  {
   "cell_type": "code",
   "execution_count": null,
   "metadata": {},
   "outputs": [],
   "source": [
    "#plt.plot(receptor_cell.vmem)\n",
    "#print(receptor_cell.vmem)\n",
    "\n",
    "#plt.plot(t,receptor_cell.vmem[140])\n",
    "#plt.xlabel(\"Time\")\n",
    "#print(max(receptor_cell.vmem[140]))"
   ]
  },
  {
   "cell_type": "code",
   "execution_count": null,
   "metadata": {},
   "outputs": [],
   "source": [
    "# find index positions of electrodes in the cells\n",
    "positions = np.array(list(zip(receptor_cell.xmid, receptor_cell.zmid)))\n",
    "\n",
    "target = np.array([200,600])      # estimated location in the plot\n",
    "target_index = ((positions - target)**2).sum(axis=1).argmin()     # find closest electrode\n",
    "\n",
    "target_pos = positions[target_index]       # find target electrode index"
   ]
  },
  {
   "cell_type": "code",
   "execution_count": null,
   "metadata": {},
   "outputs": [],
   "source": [
    "plt.figure(dpi=100,\n",
    "          figsize=(4,6))\n",
    "\n",
    "plt.scatter(generator_cell.xmid, generator_cell.zmid,s=2)\n",
    "plt.scatter(receptor_cell.xmid, receptor_cell.zmid,s=2)\n",
    "\n",
    "plt.scatter(target_pos[0],target_pos[1],s=10,color='k')"
   ]
  },
  {
   "cell_type": "code",
   "execution_count": null,
   "metadata": {},
   "outputs": [],
   "source": [
    "pcolormesh(generator_cell.tvec, electrode.z, electrode.LFP,\n",
    "           vmin=-abs(electrode.LFP).max(), vmax=abs(electrode.LFP).max())\n",
    "colorbar()\n",
    "title('LFP (mV)')"
   ]
  },
  {
   "cell_type": "code",
   "execution_count": null,
   "metadata": {},
   "outputs": [],
   "source": [
    "# plot generator cell\n",
    "\n",
    "def plotstuff(receptor_cell, electrode):\n",
    "    fig = plt.figure(dpi=160)\n",
    "    \n",
    "    ax1 = fig.add_axes([0.05, 0.1, 0.55, 0.9], frameon=False)\n",
    "    cax = fig.add_axes([0.05, 0.115, 0.55, 0.015])\n",
    "    \n",
    "    #plot each electrode as a point\n",
    "    #ax1.plot(electrode.x, electrode.z, '.', marker='o', markersize=1, color='k',zorder=0)  \n",
    "   \n",
    "    \n",
    "    #normalize to min peak\n",
    "    Vmem_min = receptor_cell.vmem.min(axis=1)\n",
    "    Vmem_norm = -(receptor_cell.vmem.T / Vmem_min).T  #T is the transpose\n",
    "    print(len(Vmem_min))\n",
    "    print(len(receptor_cell.vmem))\n",
    "    \n",
    "    i = 0\n",
    "    zips = []\n",
    "    for x in Vmem_norm:\n",
    "        zips.append(list(zip(receptor_cell.tvec*1.6 + electrode.x[i] + 2,\n",
    "                        x*12 + electrode.z[i])))\n",
    "        i += 1\n",
    "    \n",
    "    line_segments = LineCollection(zips,\n",
    "                                    linewidths = (1.5),\n",
    "                                    linestyles = 'solid',\n",
    "                                    cmap='nipy_spectral',\n",
    "                                    zorder=1,\n",
    "                                    rasterized=True)\n",
    "    \n",
    "    line_segments.set_array(np.log10(-Vmem_min))\n",
    "    ax1.add_collection(line_segments)\n",
    "    \n",
    "    axcb = fig.colorbar(line_segments, cax=cax, orientation='horizontal')\n",
    "    axcb.outline.set_visible(True)\n",
    "    xticklabels = np.array([-0.1  , -0.05 , -0.02 , -0.01 , -0.005, -0.002])\n",
    "    xticks = np.log10(-xticklabels)\n",
    "    axcb.set_ticks(xticklabels)\n",
    "    axcb.set_ticklabels(np.round(-10**xticks, decimals=3))  \n",
    "    axcb.set_label('membrane potential amplitude (mV)', va='center')\n",
    "    \n",
    "    ax1.set_xticks([])\n",
    "    ax1.set_yticks([])\n",
    "    \n",
    "    axis = ax1.axis(ax1.axis('equal'))\n",
    "    ax1.set_xlim(axis[0]*1.02, axis[1]*1.02)\n",
    "    \n",
    "    return fig\n",
    "\n",
    "fig = plotstuff(receptor_cell, electrode)\n",
    "print(receptor_cell.vmem.min)"
   ]
  },
  {
   "cell_type": "code",
   "execution_count": null,
   "metadata": {},
   "outputs": [],
   "source": [
    "print(receptor_cell.vmem)"
   ]
  },
  {
   "cell_type": "code",
   "execution_count": null,
   "metadata": {},
   "outputs": [],
   "source": [
    "print(receptor_cell.vmem.min(axis=1))"
   ]
  },
  {
   "cell_type": "code",
   "execution_count": null,
   "metadata": {},
   "outputs": [],
   "source": []
  }
 ],
 "metadata": {
  "kernelspec": {
   "display_name": "Python 3",
   "language": "python",
   "name": "python3"
  },
  "language_info": {
   "codemirror_mode": {
    "name": "ipython",
    "version": 3
   },
   "file_extension": ".py",
   "mimetype": "text/x-python",
   "name": "python",
   "nbconvert_exporter": "python",
   "pygments_lexer": "ipython3",
   "version": "3.6.7"
  }
 },
 "nbformat": 4,
 "nbformat_minor": 1
}
