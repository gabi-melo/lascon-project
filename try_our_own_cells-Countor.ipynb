{
 "cells": [
  {
   "cell_type": "code",
   "execution_count": 1,
   "metadata": {},
   "outputs": [
    {
     "name": "stdout",
     "output_type": "stream",
     "text": [
      "Populating the interactive namespace from numpy and matplotlib\n"
     ]
    }
   ],
   "source": [
    "%pylab inline"
   ]
  },
  {
   "cell_type": "markdown",
   "metadata": {},
   "source": [
    "\n",
    "\n",
    "# Ephaptic Coupling #"
   ]
  },
  {
   "cell_type": "code",
   "execution_count": 2,
   "metadata": {},
   "outputs": [],
   "source": [
    "import numpy as np\n",
    "import sys\n",
    "if sys.version < '3':\n",
    "    from urllib2 import urlopen\n",
    "else:    \n",
    "    from urllib.request import urlopen\n",
    "import ssl\n",
    "from warnings import warn\n",
    "import zipfile\n",
    "import os\n",
    "import matplotlib.pyplot as plt\n",
    "from matplotlib.collections import LineCollection\n",
    "import LFPy\n",
    "import neuron\n",
    "from neuron import h"
   ]
  },
  {
   "cell_type": "markdown",
   "metadata": {},
   "source": [
    "## Fetch model files\n",
    "### Cell type and cell parameters ###"
   ]
  },
  {
   "cell_type": "code",
   "execution_count": 3,
   "metadata": {},
   "outputs": [],
   "source": [
    "# define cell parameters used as input to cell-class\n",
    "cellParameters = {\n",
    "    'morphology'    : 'L5.hoc',\n",
    "    'passive' : False,\n",
    "    'nsegs_method' : None,\n",
    "    'dt' : 2**-6,\n",
    "    'tstart' : 0,  #how this work? let's put 0 and not a negative number\n",
    "    'tstop' : 10,\n",
    "    'v_init' : -60,\n",
    "    'celsius': 34,\n",
    "    'pt3d' : True,\n",
    "    'extracellular': True,\n",
    "}"
   ]
  },
  {
   "cell_type": "markdown",
   "metadata": {},
   "source": [
    "### Creating generator_cell"
   ]
  },
  {
   "cell_type": "code",
   "execution_count": 4,
   "metadata": {},
   "outputs": [],
   "source": [
    "# delete old sections from NEURON namespace\n",
    "LFPy.cell.neuron.h(\"forall delete_section()\")\n",
    "\n",
    "# initialize cell instance, using the LFPy.Cell class\n",
    "generator_cell = LFPy.Cell(**cellParameters)\n",
    "generator_cell.set_rotation(x=4.729, y=-3.166)"
   ]
  },
  {
   "cell_type": "markdown",
   "metadata": {},
   "source": [
    "### Puting Synapse ###"
   ]
  },
  {
   "cell_type": "code",
   "execution_count": 5,
   "metadata": {},
   "outputs": [],
   "source": [
    "synapse = LFPy.Synapse(generator_cell, \n",
    "                       idx = generator_cell.get_idx(\"soma[0]\"),\n",
    "                       syntype = 'Exp2Syn', \n",
    "                       weight = 0.005, \n",
    "                       e = 15, \n",
    "                       tau1 = 0.5,\n",
    "                       tau2 = 2,\n",
    "                       record_current = True)\n",
    "synapse.set_spike_times(np.array([2.,8]))"
   ]
  },
  {
   "cell_type": "markdown",
   "metadata": {},
   "source": [
    "### Measuring the external field in the positions of receptor_cell"
   ]
  },
  {
   "cell_type": "code",
   "execution_count": 6,
   "metadata": {},
   "outputs": [
    {
     "name": "stdout",
     "output_type": "stream",
     "text": [
      "Adjusting r-distance to soma segments\n",
      "Adjusting r-distance to soma segments\n",
      "Adjusting r-distance to soma segments\n",
      "Adjusting r-distance to soma segments\n",
      "Adjusting r-distance to soma segments\n",
      "Adjusting r-distance to soma segments\n",
      "Adjusting r-distance to soma segments\n",
      "Adjusting r-distance to soma segments\n",
      "Adjusting r-distance to soma segments\n",
      "Adjusting r-distance to soma segments\n",
      "Adjusting r-distance to soma segments\n",
      "Adjusting r-distance to soma segments\n",
      "Adjusting r-distance to soma segments\n",
      "Adjusting r-distance to soma segments\n",
      "Adjusting r-distance to soma segments\n",
      "Adjusting r-distance to soma segments\n",
      "Adjusting r-distance to soma segments\n",
      "Adjusting r-distance to soma segments\n",
      "Adjusting r-distance to soma segments\n",
      "Adjusting r-distance to soma segments\n",
      "Adjusting r-distance to soma segments\n",
      "Adjusting r-distance to soma segments\n",
      "Adjusting r-distance to soma segments\n",
      "Adjusting r-distance to soma segments\n",
      "Adjusting r-distance to soma segments\n",
      "Adjusting r-distance to soma segments\n",
      "Adjusting r-distance to soma segments\n",
      "Adjusting r-distance to soma segments\n",
      "Adjusting r-distance to soma segments\n",
      "Adjusting r-distance to soma segments\n",
      "Adjusting r-distance to soma segments\n",
      "Adjusting r-distance to soma segments\n",
      "Adjusting r-distance to soma segments\n",
      "Adjusting r-distance to soma segments\n",
      "Adjusting r-distance to soma segments\n",
      "Adjusting r-distance to soma segments\n",
      "Adjusting r-distance to soma segments\n",
      "Adjusting r-distance to soma segments\n",
      "Adjusting r-distance to soma segments\n",
      "Adjusting r-distance to soma segments\n",
      "Adjusting r-distance to soma segments\n",
      "Adjusting r-distance to soma segments\n",
      "Adjusting r-distance to soma segments\n",
      "Adjusting r-distance to soma segments\n",
      "Adjusting r-distance to soma segments\n",
      "Adjusting r-distance to soma segments\n",
      "Adjusting r-distance to soma segments\n",
      "Adjusting r-distance to soma segments\n",
      "Adjusting r-distance to soma segments\n",
      "Adjusting r-distance to soma segments\n",
      "Adjusting r-distance to soma segments\n",
      "Adjusting r-distance to soma segments\n",
      "Adjusting r-distance to soma segments\n",
      "Adjusting r-distance to soma segments\n",
      "Adjusting r-distance to soma segments\n",
      "Adjusting r-distance to soma segments\n",
      "Adjusting r-distance to soma segments\n",
      "Adjusting r-distance to soma segments\n",
      "Adjusting r-distance to soma segments\n",
      "Adjusting r-distance to soma segments\n",
      "Adjusting r-distance to soma segments\n",
      "Adjusting r-distance to soma segments\n",
      "Adjusting r-distance to soma segments\n",
      "Adjusting r-distance to soma segments\n",
      "Adjusting r-distance to soma segments\n",
      "Adjusting r-distance to soma segments\n",
      "Adjusting r-distance to soma segments\n",
      "Adjusting r-distance to soma segments\n",
      "Adjusting r-distance to soma segments\n",
      "Adjusting r-distance to soma segments\n",
      "Adjusting r-distance to soma segments\n",
      "Adjusting r-distance to soma segments\n",
      "Adjusting r-distance to soma segments\n",
      "Adjusting r-distance to soma segments\n",
      "Adjusting r-distance to soma segments\n",
      "Adjusting r-distance to soma segments\n",
      "Adjusting r-distance to soma segments\n",
      "Adjusting r-distance to soma segments\n",
      "Adjusting r-distance to soma segments\n",
      "Adjusting r-distance to soma segments\n",
      "Adjusting r-distance to soma segments\n",
      "Adjusting r-distance to soma segments\n",
      "Adjusting r-distance to soma segments\n",
      "Adjusting r-distance to soma segments\n",
      "Adjusting r-distance to soma segments\n",
      "Adjusting r-distance to soma segments\n",
      "Adjusting r-distance to soma segments\n",
      "Adjusting r-distance to soma segments\n",
      "Adjusting r-distance to soma segments\n",
      "Adjusting r-distance to soma segments\n",
      "Adjusting r-distance to soma segments\n",
      "Adjusting r-distance to soma segments\n",
      "Adjusting r-distance to soma segments\n",
      "Adjusting r-distance to soma segments\n",
      "Adjusting r-distance to soma segments\n",
      "Adjusting r-distance to soma segments\n",
      "Adjusting r-distance to soma segments\n",
      "Adjusting r-distance to soma segments\n",
      "Adjusting r-distance to soma segments\n",
      "Adjusting r-distance to soma segments\n",
      "Adjusting r-distance to soma segments\n",
      "Adjusting r-distance to soma segments\n",
      "Adjusting r-distance to soma segments\n",
      "Adjusting r-distance to soma segments\n",
      "Adjusting r-distance to soma segments\n",
      "Adjusting r-distance to soma segments\n",
      "Adjusting r-distance to soma segments\n",
      "Adjusting r-distance to soma segments\n",
      "Adjusting r-distance to soma segments\n",
      "Adjusting r-distance to soma segments\n",
      "Adjusting r-distance to soma segments\n",
      "Adjusting r-distance to soma segments\n",
      "Adjusting r-distance to soma segments\n",
      "Adjusting r-distance to soma segments\n",
      "Adjusting r-distance to soma segments\n",
      "Adjusting r-distance to soma segments\n",
      "Adjusting r-distance to soma segments\n",
      "Adjusting r-distance to soma segments\n",
      "Adjusting r-distance to soma segments\n",
      "Adjusting r-distance to soma segments\n",
      "Adjusting r-distance to soma segments\n",
      "Adjusting r-distance to soma segments\n",
      "Adjusting r-distance to soma segments\n",
      "Adjusting r-distance to soma segments\n",
      "Adjusting r-distance to soma segments\n",
      "Adjusting r-distance to soma segments\n",
      "Adjusting r-distance to soma segments\n",
      "Adjusting r-distance to soma segments\n",
      "Adjusting r-distance to soma segments\n",
      "Adjusting r-distance to soma segments\n",
      "Adjusting r-distance to soma segments\n",
      "Adjusting r-distance to soma segments\n",
      "Adjusting r-distance to soma segments\n",
      "Adjusting r-distance to soma segments\n",
      "Adjusting r-distance to soma segments\n",
      "Adjusting r-distance to soma segments\n",
      "Adjusting r-distance to soma segments\n",
      "Adjusting r-distance to soma segments\n",
      "Adjusting r-distance to soma segments\n",
      "Adjusting r-distance to soma segments\n",
      "Adjusting r-distance to soma segments\n",
      "Adjusting r-distance to soma segments\n",
      "Adjusting r-distance to soma segments\n",
      "Adjusting r-distance to soma segments\n",
      "Adjusting r-distance to soma segments\n",
      "Adjusting r-distance to soma segments\n",
      "Adjusting r-distance to soma segments\n",
      "Adjusting r-distance to soma segments\n",
      "Adjusting r-distance to soma segments\n",
      "Adjusting r-distance to soma segments\n",
      "Adjusting r-distance to soma segments\n",
      "Adjusting r-distance to soma segments\n",
      "Adjusting r-distance to soma segments\n",
      "Adjusting r-distance to soma segments\n",
      "Adjusting r-distance to soma segments\n",
      "Adjusting r-distance to soma segments\n",
      "Adjusting r-distance to soma segments\n",
      "Adjusting r-distance to soma segments\n",
      "Adjusting r-distance to soma segments\n",
      "Adjusting r-distance to soma segments\n",
      "Adjusting r-distance to soma segments\n",
      "Adjusting r-distance to soma segments\n",
      "Adjusting r-distance to soma segments\n",
      "Adjusting r-distance to soma segments\n",
      "Adjusting r-distance to soma segments\n",
      "Adjusting r-distance to soma segments\n",
      "Adjusting r-distance to soma segments\n",
      "Adjusting r-distance to soma segments\n",
      "Adjusting r-distance to soma segments\n",
      "Adjusting r-distance to soma segments\n",
      "Adjusting r-distance to soma segments\n",
      "Adjusting r-distance to soma segments\n",
      "Adjusting r-distance to soma segments\n",
      "Adjusting r-distance to soma segments\n",
      "Adjusting r-distance to soma segments\n",
      "Adjusting r-distance to soma segments\n",
      "Adjusting r-distance to soma segments\n",
      "Adjusting r-distance to soma segments\n",
      "Adjusting r-distance to soma segments\n",
      "Adjusting r-distance to soma segments\n",
      "Adjusting r-distance to soma segments\n",
      "Adjusting r-distance to soma segments\n",
      "Adjusting r-distance to soma segments\n",
      "Adjusting r-distance to soma segments\n",
      "Adjusting r-distance to soma segments\n",
      "Adjusting r-distance to soma segments\n",
      "Adjusting r-distance to soma segments\n",
      "Adjusting r-distance to soma segments\n",
      "Adjusting r-distance to soma segments\n",
      "Adjusting r-distance to soma segments\n",
      "Adjusting r-distance to soma segments\n",
      "Adjusting r-distance to soma segments\n",
      "Adjusting r-distance to soma segments\n",
      "Adjusting r-distance to soma segments\n",
      "Adjusting r-distance to soma segments\n",
      "Adjusting r-distance to soma segments\n",
      "Adjusting r-distance to soma segments\n",
      "Adjusting r-distance to soma segments\n",
      "Adjusting r-distance to soma segments\n",
      "Adjusting r-distance to soma segments\n",
      "Adjusting r-distance to soma segments\n",
      "Adjusting r-distance to soma segments\n",
      "Adjusting r-distance to soma segments\n",
      "Adjusting r-distance to soma segments\n",
      "Adjusting r-distance to soma segments\n",
      "Adjusting r-distance to soma segments\n",
      "Adjusting r-distance to soma segments\n",
      "Adjusting r-distance to soma segments\n",
      "Adjusting r-distance to soma segments\n",
      "Adjusting r-distance to soma segments\n",
      "Adjusting r-distance to soma segments\n",
      "Adjusting r-distance to soma segments\n",
      "Adjusting r-distance to soma segments\n",
      "Adjusting r-distance to soma segments\n",
      "Adjusting r-distance to soma segments\n",
      "Adjusting r-distance to soma segments\n",
      "Adjusting r-distance to soma segments\n",
      "Adjusting r-distance to soma segments\n",
      "Adjusting r-distance to soma segments\n",
      "Adjusting r-distance to soma segments\n"
     ]
    },
    {
     "name": "stdout",
     "output_type": "stream",
     "text": [
      "Adjusting r-distance to soma segments\n",
      "Adjusting r-distance to soma segments\n",
      "Adjusting r-distance to soma segments\n",
      "Adjusting r-distance to soma segments\n",
      "Adjusting r-distance to soma segments\n",
      "Adjusting r-distance to soma segments\n",
      "Adjusting r-distance to soma segments\n",
      "Adjusting r-distance to soma segments\n",
      "Adjusting r-distance to soma segments\n",
      "Adjusting r-distance to soma segments\n",
      "Adjusting r-distance to soma segments\n",
      "Adjusting r-distance to soma segments\n",
      "Adjusting r-distance to soma segments\n",
      "Adjusting r-distance to soma segments\n",
      "Adjusting r-distance to soma segments\n",
      "Adjusting r-distance to soma segments\n",
      "Adjusting r-distance to soma segments\n",
      "Adjusting r-distance to soma segments\n",
      "Adjusting r-distance to soma segments\n",
      "Adjusting r-distance to soma segments\n",
      "Adjusting r-distance to soma segments\n",
      "Adjusting r-distance to soma segments\n",
      "Adjusting r-distance to soma segments\n",
      "Adjusting r-distance to soma segments\n"
     ]
    }
   ],
   "source": [
    "# place electrodes at each segment of the cell\n",
    "# define parameters for extracellular recording electrode, using optional method\n",
    "# x,y,z are coordinates of contacts (from the grid in xz-plane over which we calculate local field potentials)\n",
    "electrodeParameters = {\n",
    "    'sigma' : 0.3,                  # extracellular conductivity\n",
    "    'x' : generator_cell.xmid,      # + distance of the electrodes to the receptor cell\n",
    "    'y' : generator_cell.ymid,\n",
    "    'z' : generator_cell.zmid,\n",
    "    'method' : 'soma_as_point',  #sphere source soma segment\n",
    "    'N' : np.array([[0, 1, 0]]*generator_cell.xmid.size), #surface normals\n",
    "    'r' : 2.5,              # contact site radius\n",
    "    'n' : 20,               # datapoints for averaging\n",
    "}\n",
    "\n",
    "# create extracellular electrode object for LFPs on grid\n",
    "electrode = LFPy.RecExtElectrode(**electrodeParameters)\n",
    "\n",
    "# perform NEURON simulation of the generator cell\n",
    "# results saved as attributes in the cell instance\n",
    "generator_cell.simulate(electrode = electrode,rec_imem=True)"
   ]
  },
  {
   "cell_type": "markdown",
   "metadata": {},
   "source": [
    "### Creating Receptor_cell"
   ]
  },
  {
   "cell_type": "code",
   "execution_count": 7,
   "metadata": {},
   "outputs": [
    {
     "name": "stdout",
     "output_type": "stream",
     "text": [
      "Overwriting custom temperature of 34.00. New temperature is 34.00\n"
     ]
    }
   ],
   "source": [
    "# delete old sections from NEURON namespace\n",
    "LFPy.cell.neuron.h(\"forall delete_section()\")\n",
    "\n",
    "# initialize cell instance, using the LFPy.Cell class\n",
    "receptor_cell = LFPy.Cell(**cellParameters)\n",
    "receptor_cell.set_rotation(x=4.729, y=-3.166)\n",
    "receptor_cell.xmid += 100\n",
    "\n",
    "# time of extracellular field simulation\n",
    "t = np.arange(electrode.LFP.shape[1]) * receptor_cell.dt\n",
    "\n",
    "# insert external field generated by the generator cell recorded in electrodes\n",
    "receptor_cell.insert_v_ext(electrode.LFP, t)\n",
    "\n",
    "# perform NEURON simulation of the receptor cell\n",
    "receptor_cell.simulate(rec_vmem=True)"
   ]
  },
  {
   "cell_type": "markdown",
   "metadata": {},
   "source": [
    "### Find Index positions of electrodes in the receptor cell"
   ]
  },
  {
   "cell_type": "code",
   "execution_count": 8,
   "metadata": {},
   "outputs": [],
   "source": [
    "positions = np.array(list(zip(receptor_cell.xmid, receptor_cell.zmid)))\n",
    "\n",
    "target = np.array([200,600])      # estimated location in the plot\n",
    "target_index = ((positions - target)**2).sum(axis=1).argmin()     # find closest electrode\n",
    "\n",
    "target_pos = positions[target_index]       # find target electrode index"
   ]
  },
  {
   "cell_type": "markdown",
   "metadata": {},
   "source": [
    "### Plot figure of generator and receptor cell"
   ]
  },
  {
   "cell_type": "code",
   "execution_count": 9,
   "metadata": {},
   "outputs": [
    {
     "data": {
      "text/plain": [
       "<matplotlib.collections.PathCollection at 0x7fe6d0107a10>"
      ]
     },
     "execution_count": 9,
     "metadata": {},
     "output_type": "execute_result"
    },
    {
     "data": {
      "image/png": "[encoded data removed]",
      "text/plain": [
       "<Figure size 400x600 with 1 Axes>"
      ]
     },
     "metadata": {
      "needs_background": "light"
     },
     "output_type": "display_data"
    }
   ],
   "source": [
    "plt.figure(dpi=100,\n",
    "          figsize=(4,6))\n",
    "\n",
    "plt.scatter(generator_cell.xmid, generator_cell.zmid,s=2)\n",
    "plt.scatter(receptor_cell.xmid, receptor_cell.zmid,s=2)\n",
    "\n",
    "plt.scatter(target_pos[0],target_pos[1],s=10,color='k')"
   ]
  },
  {
   "cell_type": "code",
   "execution_count": null,
   "metadata": {},
   "outputs": [],
   "source": []
  }
 ],
 "metadata": {
  "kernelspec": {
   "display_name": "Python 3",
   "language": "python",
   "name": "python3"
  },
  "language_info": {
   "codemirror_mode": {
    "name": "ipython",
    "version": 3
   },
   "file_extension": ".py",
   "mimetype": "text/x-python",
   "name": "python",
   "nbconvert_exporter": "python",
   "pygments_lexer": "ipython3",
   "version": "3.7.4"
  }
 },
 "nbformat": 4,
 "nbformat_minor": 1
}
