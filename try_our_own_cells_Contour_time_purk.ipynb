{
 "cells": [
  {
   "cell_type": "markdown",
   "metadata": {},
   "source": [
    "\n",
    "\n",
    "# Ephaptic Coupling #"
   ]
  },
  {
   "cell_type": "markdown",
   "metadata": {},
   "source": [
    "### Import stuff"
   ]
  },
  {
   "cell_type": "code",
   "execution_count": 1,
   "metadata": {},
   "outputs": [
    {
     "name": "stdout",
     "output_type": "stream",
     "text": [
      "Populating the interactive namespace from numpy and matplotlib\n"
     ]
    }
   ],
   "source": [
    "%pylab inline\n",
    "\n",
    "import numpy as np\n",
    "import sys\n",
    "if sys.version < '3':\n",
    "    from urllib2 import urlopen\n",
    "else:    \n",
    "    from urllib.request import urlopen\n",
    "import ssl\n",
    "from warnings import warn\n",
    "import zipfile\n",
    "import os\n",
    "import matplotlib.pyplot as plt\n",
    "from matplotlib.collections import LineCollection\n",
    "from matplotlib.collections import PolyCollection\n",
    "from os.path import join\n",
    "import LFPy\n",
    "import neuron\n",
    "from neuron import h"
   ]
  },
  {
   "cell_type": "markdown",
   "metadata": {},
   "source": [
    "### Define morphology and cell parameters"
   ]
  },
  {
   "cell_type": "code",
   "execution_count": 2,
   "metadata": {},
   "outputs": [],
   "source": [
    "\n",
    "cellParameters = {\n",
    "    'morphology' : 'morphology/purkinje.hoc',\n",
    "    'cm' : 0.65,                      \n",
    "    'Ra' : 120,                \n",
    "    'v_init' : -62, \n",
    "    'passive' : True,           # turn on NEURONs passive mechanism for all sections\n",
    "    'nsegs_method' : None,      # spatial discretization method\n",
    "    'dt' : 2**-6,               # simulation time step size\n",
    "    'tstart' : -200,               # start time of simulation\n",
    "    'tstop' : 400,               # stop simulation\n",
    "    'celsius': 34,\n",
    "    'pt3d' : True,\n",
    "    'extracellular': True,\n",
    "    'passive_parameters' : {'g_pas' : 1/120236, 'e_pas' : -62},\n",
    "}"
   ]
  },
  {
   "cell_type": "markdown",
   "metadata": {},
   "source": [
    "### Create generator_cell"
   ]
  },
  {
   "cell_type": "code",
   "execution_count": 3,
   "metadata": {},
   "outputs": [
    {
     "name": "stdout",
     "output_type": "stream",
     "text": [
      "\t1 \n",
      "\t30 \n",
      "\t0 \n",
      "\t0 \n",
      "\t0 \n",
      "\t0 \n",
      "Purkinje cell morphology defined\n",
      "\n",
      "\t1 \n"
     ]
    }
   ],
   "source": [
    "# delete old sections from NEURON namespace\n",
    "LFPy.cell.neuron.h(\"forall delete_section()\")\n",
    "\n",
    "# initialize cell instance, using the LFPy.Cell class\n",
    "generator_cell = LFPy.Cell(**cellParameters)\n",
    "# align cell\n",
    "generator_cell.set_rotation(x=4.99, y=-4.33, z=0)\n",
    "\n",
    "# create synapse\n",
    "synapse_parameters = {\n",
    "    'idx' : generator_cell.get_closest_idx(x=0, y=0, z=0),  # place sinapse at soma coordinates (should always be 0,0,0 - but better check for different morphos)\n",
    "    'e' : 15,                    # reversal potential\n",
    "    'syntype' : 'ExpSyn',        # synapse type\n",
    "    'tau1' : 0.5,                # synaptic time constant\n",
    "    'tau2' : 2,\n",
    "    'weight' : 0.005,            # synaptic weight\n",
    "    'record_current' : True,     # record synapse current\n",
    "}\n",
    "\n",
    "synapse = LFPy.Synapse(generator_cell, **synapse_parameters)\n",
    "synapse.set_spike_times(np.array([10.]))"
   ]
  },
  {
   "cell_type": "markdown",
   "metadata": {},
   "source": [
    "### Create grid electrode (for contour plot) and point electrode (for simple plots)"
   ]
  },
  {
   "cell_type": "code",
   "execution_count": null,
   "metadata": {},
   "outputs": [],
   "source": [
    "# place electrodes at each segment of the cell\n",
    "# define parameters for extracellular recording electrode, using optional method\n",
    "# x,y,z are coordinates of contacts (from the grid in xz-plane over which we calculate local field potentials)\n",
    "electrodeParameters = {\n",
    "    'sigma' : 0.3,                  # extracellular conductivity\n",
    "    'x' : generator_cell.xmid,      # + distance of the electrodes to the receptor cell\n",
    "    'y' : generator_cell.ymid,\n",
    "    'z' : generator_cell.zmid,\n",
    "    'method' : 'soma_as_point',     # sphere source soma segment\n",
    "    'N' : np.array([[0, 1, 0]]*generator_cell.xmid.size),      # surface normals\n",
    "    'r' : 2.5,                      # contact site radius\n",
    "    'n' : 20,                       # datapoints for averaging\n",
    "}\n",
    "\n",
    "# create a grid of measurement locations, in (mum)\n",
    "X, Z = np.mgrid[-300:300:20, -150:1200:10]\n",
    "Y = np.zeros(X.shape)\n",
    "\n",
    "# define electrode parameters\n",
    "grid_electrode_parameters = {\n",
    "    'sigma' : 0.3,             # extracellular conductivity\n",
    "    'x' : X.flatten(),         # electrode requires 1d vector of positions\n",
    "    'y' : Y.flatten(),\n",
    "    'z' : Z.flatten(),\n",
    "    'verbose': True,\n",
    "}\n",
    "\n",
    "# define electrode parameters\n",
    "point_electrode_parameters = {\n",
    "    'sigma' : 0.3,                    # extracellular conductivity\n",
    "    'x' : np.array([130., 220.]),     # positions of the first(blue) and second(green) electrode\n",
    "    'y' : np.array([   0.,    0.]),\n",
    "    'z' : np.array([   0.,  700.]),\n",
    "}\n",
    "\n",
    "# run simulation, electrode object argument in cell.simulate\n",
    "generator_cell.simulate(rec_imem=True)\n",
    "\n",
    "# create electrode objects\n",
    "grid_electrode = LFPy.RecExtElectrode(generator_cell,**grid_electrode_parameters)\n",
    "point_electrode = LFPy.RecExtElectrode(generator_cell,**point_electrode_parameters)\n",
    "\n",
    "# calculate LFPs\n",
    "grid_electrode.calc_lfp()\n",
    "point_electrode.calc_lfp()"
   ]
  },
  {
   "cell_type": "code",
   "execution_count": null,
   "metadata": {},
   "outputs": [],
   "source": []
  },
  {
   "cell_type": "code",
   "execution_count": null,
   "metadata": {},
   "outputs": [],
   "source": []
  },
  {
   "cell_type": "markdown",
   "metadata": {},
   "source": [
    "### Plot generator and receptor cells"
   ]
  },
  {
   "cell_type": "code",
   "execution_count": null,
   "metadata": {},
   "outputs": [],
   "source": [
    "# plot LFP blue electrode [0]\n",
    "plt.axes([.15,.10,.25,.25])\n",
    "plt.plot(generator_cell.tvec,point_electrode.LFP[0]*1e6,color='blue', clip_on=False)\n",
    "plt.ylabel(r'$\\Phi_2(\\mathbf{r},t)$ (nV)')\n",
    "plt.xlabel(r'$t$ (ms)')\n",
    "plt.axis('tight')\n",
    "ax = plt.gca()\n",
    "for loc, spine in ax.spines.items():\n",
    "    if loc in ['right', 'top']:\n",
    "        spine.set_color('none')            \n",
    "ax.xaxis.set_ticks_position('bottom')\n",
    "ax.yaxis.set_ticks_position('left')\n",
    "\n",
    "# plot LFP green electrode\n",
    "plt.axes([.15,.375,.25,.25])\n",
    "plt.plot(generator_cell.tvec,point_electrode.LFP[1]*1e6,color='green', clip_on=False)\n",
    "plt.ylabel(r'$\\Phi_1(\\mathbf{r}, t)$ (nV)')\n",
    "plt.axis('tight')\n",
    "ax = plt.gca()\n",
    "for loc, spine in ax.spines.items():\n",
    "    if loc in ['right', 'top']:\n",
    "        spine.set_color('none')            \n",
    "ax.xaxis.set_ticks_position('bottom')\n",
    "ax.yaxis.set_ticks_position('left')\n",
    "ax.set_xticklabels([])\n",
    "\n",
    "# plot synapse electrode\n",
    "plt.axes([.15,.65,.25,.25])\n",
    "plt.plot(generator_cell.tvec,synapse.i*1E3, color='red', clip_on=False)\n",
    "plt.ylabel(r'$i_\\mathrm{syn}(t)$ (pA)')\n",
    "plt.axis('tight')\n",
    "ax = plt.gca()\n",
    "for loc, spine in ax.spines.items():\n",
    "    if loc in ['right', 'top']:\n",
    "        spine.set_color('none')            \n",
    "ax.xaxis.set_ticks_position('bottom')\n",
    "ax.yaxis.set_ticks_position('left')\n",
    "ax.set_xticklabels([])\n",
    "\n",
    "# optionally save figure\n",
    "# plt.savefig('contour_plot.pdf', dpi=300)"
   ]
  },
  {
   "cell_type": "code",
   "execution_count": null,
   "metadata": {},
   "outputs": [],
   "source": []
  },
  {
   "cell_type": "code",
   "execution_count": null,
   "metadata": {},
   "outputs": [],
   "source": []
  },
  {
   "cell_type": "code",
   "execution_count": null,
   "metadata": {},
   "outputs": [],
   "source": [
    "def ctime(t,ax=None,vmin=-15,vmax=-5):\n",
    "    \n",
    "    ax = plt.gca() if ax == None else ax\n",
    "\n",
    "    #LFP = np.max(np.abs(grid_electrode.LFP),1).reshape(X.shape)  \n",
    "    LFP = np.abs(grid_electrode.LFP[:,t]).reshape(X.shape)  \n",
    "\n",
    "    im = ax.contour(X, Z, np.log10(LFP), 20,\n",
    "               cmap='inferno', vmin=vmin, vmax=vmax,  #'viridis', 'plasma', 'inferno', 'magma', 'cividis' https://matplotlib.org/tutorials/colors/colormaps.html#mycarta-banding\n",
    "               zorder=-2)\n",
    "    #cbar = fig.colorbar(im, cax=cax)\n",
    "    #cbar.set_label('$|\\Phi(\\mathbf{r}, t)|$ (nV)')\n",
    "    #cbar.outline.set_visible(False)\n",
    "    \n",
    "    # plot points where the synapse is\n",
    "    ax.plot(generator_cell.xmid[generator_cell.synidx],generator_cell.zmid[generator_cell.synidx], 'o', ms=5,\n",
    "        markeredgecolor='k',\n",
    "        markerfacecolor='r')\n",
    "\n",
    "    # plot points where the LFP is been recorded\n",
    "    color_vec = ['blue','green']\n",
    "    for i in range(2):\n",
    "        ax.plot(point_electrode_parameters['x'][i], point_electrode_parameters['z'][i],'o',ms=3, markeredgecolor='k',\n",
    "            markerfacecolor=color_vec[i])\n",
    "    \n",
    "    # plot morphology of generator_cell\n",
    "    zips = []\n",
    "    for x, z in generator_cell.get_idx_polygons():\n",
    "        zips.append(list(zip(x, z)))\n",
    "    polycol = PolyCollection(zips,\n",
    "                             edgecolors='none',\n",
    "                             facecolors='k')\n",
    "    ax.add_collection(polycol)\n",
    "\n",
    "    # plot morphology of receptor_cell\n",
    "    shift = 100          # shift of receptor_cell in x dimension\n",
    "    zips = []\n",
    "    for x, z in generator_cell.get_idx_polygons():\n",
    "        zips.append(list(zip(x+shift, z)))\n",
    "    polycol = PolyCollection(zips,\n",
    "                             edgecolors='none',\n",
    "                             facecolors= 'orange')\n",
    "    ax.add_collection(polycol)\n",
    "\n",
    "    ax.set_ylim(-250,1200)\n",
    "    ax.set_xlim(-300,300)\n",
    "    ax.axis('off')\n",
    "    \n",
    "    #print(np.any(min(np.log10(LFP[:,:]))))\n",
    "    \n",
    "fig,axes = plt.subplots(2,3,figsize=(16,8))\n",
    "times = [600,641,650,670,1800,24000]\n",
    "for t,ax in zip(times,axes.ravel()):\n",
    "    ctime(t,ax=ax)\n",
    "    ax.set_title('Time %.1f ms'%(t*2**-6))"
   ]
  },
  {
   "cell_type": "code",
   "execution_count": null,
   "metadata": {},
   "outputs": [],
   "source": [
    "plt.figure(figsize=(1,5))\n",
    "plt.imshow(np.linspace(-10,-5,100).reshape(-1,1),vmin=-10,vmax=-5,cmap='inferno', aspect='auto')\n",
    "plt.gca().set_axis_off()\n",
    "\n",
    "\n",
    "\n",
    "\n"
   ]
  },
  {
   "cell_type": "code",
   "execution_count": null,
   "metadata": {},
   "outputs": [],
   "source": [
    "#Histograma para definir os limites vmin e vmax\n",
    "#plt.hist(np.log10(np.abs(grid_electrode.LFP.ravel())),30)"
   ]
  },
  {
   "cell_type": "code",
   "execution_count": null,
   "metadata": {},
   "outputs": [],
   "source": []
  }
 ],
 "metadata": {
  "kernelspec": {
   "display_name": "Python 3",
   "language": "python",
   "name": "python3"
  },
  "language_info": {
   "codemirror_mode": {
    "name": "ipython",
    "version": 3
   },
   "file_extension": ".py",
   "mimetype": "text/x-python",
   "name": "python",
   "nbconvert_exporter": "python",
   "pygments_lexer": "ipython3",
   "version": "3.7.4"
  }
 },
 "nbformat": 4,
 "nbformat_minor": 1
}
